{
  "nbformat": 4,
  "nbformat_minor": 0,
  "metadata": {
    "colab": {
      "provenance": [],
      "authorship_tag": "ABX9TyMG7xx/uXBE5CLpXScnX79g",
      "include_colab_link": true
    },
    "kernelspec": {
      "name": "python3",
      "display_name": "Python 3"
    },
    "language_info": {
      "name": "python"
    }
  },
  "cells": [
    {
      "cell_type": "markdown",
      "metadata": {
        "id": "view-in-github",
        "colab_type": "text"
      },
      "source": [
        "<a href=\"https://colab.research.google.com/github/vangimallaLaya/Github/blob/main/operators.ipynb\" target=\"_parent\"><img src=\"https://colab.research.google.com/assets/colab-badge.svg\" alt=\"Open In Colab\"/></a>"
      ]
    },
    {
      "cell_type": "markdown",
      "source": [
        "# ***OPERATORS***"
      ],
      "metadata": {
        "id": "nvUUFwPsUEuK"
      }
    },
    {
      "cell_type": "markdown",
      "source": [
        "# write a function for arithmetic operators (+,-,*,/)"
      ],
      "metadata": {
        "id": "TO_ciKf3UNv3"
      }
    },
    {
      "cell_type": "code",
      "source": [
        "num1 = 10\n",
        "num2 = 20\n",
        "print(num1+num2)\n",
        "print(num1-num2)\n",
        "print(num1*num2)\n",
        "print(num1/num2)"
      ],
      "metadata": {
        "colab": {
          "base_uri": "https://localhost:8080/"
        },
        "id": "gqvGNJeHU8yH",
        "outputId": "02861c08-7e46-4356-b594-826792fbeec7"
      },
      "execution_count": 1,
      "outputs": [
        {
          "output_type": "stream",
          "name": "stdout",
          "text": [
            "30\n",
            "-10\n",
            "200\n",
            "0.5\n"
          ]
        }
      ]
    },
    {
      "cell_type": "markdown",
      "source": [
        "# write a method for increment and decrement operators"
      ],
      "metadata": {
        "id": "5Fre8GGRYZS6"
      }
    },
    {
      "cell_type": "code",
      "source": [
        "def increment_and_decrement(value):\n",
        "    # Increment operation\n",
        "    incremented_value = value + 1\n",
        "    print(\"Incremented value:\", incremented_value)\n",
        "\n",
        "    # Decrement operation\n",
        "    decremented_value = value - 1\n",
        "    print(\"Decremented value:\", decremented_value)\n",
        "\n",
        "# Example\n",
        "num = 10\n",
        "print(\"Original value:\", num)\n",
        "increment_and_decrement(num)"
      ],
      "metadata": {
        "colab": {
          "base_uri": "https://localhost:8080/"
        },
        "id": "FnmJnXgTZGvi",
        "outputId": "d18ccaab-a0cc-472e-b085-e84008a3fe0d"
      },
      "execution_count": 4,
      "outputs": [
        {
          "output_type": "stream",
          "name": "stdout",
          "text": [
            "Original value: 10\n",
            "Incremented value: 11\n",
            "Decremented value: 9\n"
          ]
        }
      ]
    },
    {
      "cell_type": "markdown",
      "source": [
        "# write a program to find the two numbers equal or not."
      ],
      "metadata": {
        "id": "yRo7JEHtZssg"
      }
    },
    {
      "cell_type": "code",
      "source": [
        "def compare_numbers(num1, num2):\n",
        "    return num1 == num2\n",
        "# Input from user\n",
        "number1 = int(input(\"Enter the first number: \"))\n",
        "number2 = int(input(\"Enter the second number: \"))\n",
        "if compare_numbers(number1, number2):\n",
        "    print(\"The numbers are equal.\")\n",
        "else:\n",
        "    print(\"The numbers are not equal.\")"
      ],
      "metadata": {
        "colab": {
          "base_uri": "https://localhost:8080/"
        },
        "id": "HfMJUem1aUNG",
        "outputId": "c767664e-3f24-4a49-c158-39b600fff2dd"
      },
      "execution_count": 5,
      "outputs": [
        {
          "output_type": "stream",
          "name": "stdout",
          "text": [
            "Enter the first number: 10\n",
            "Enter the second number: 20\n",
            "The numbers are not equal.\n"
          ]
        }
      ]
    },
    {
      "cell_type": "markdown",
      "source": [
        "# program for relational operators"
      ],
      "metadata": {
        "id": "-5YSL-MpcWLv"
      }
    },
    {
      "cell_type": "code",
      "source": [
        "def relational_operators(a, b):\n",
        "    print(f\"{a} < {b}: {a < b}\")\n",
        "    print(f\"{a} <= {b}: {a <= b}\")\n",
        "    print(f\"{a} == {b}: {a == b}\")\n",
        "    print(f\"{a} != {b}: {a != b}\")\n",
        "    print(f\"{a} > {b}: {a > b}\")\n",
        "    print(f\"{a} >= {b}: {a >= b}\")\n",
        "# Example\n",
        "num1 = 5\n",
        "num2 = 10\n",
        "relational_operators(num1, num2)\n"
      ],
      "metadata": {
        "colab": {
          "base_uri": "https://localhost:8080/"
        },
        "id": "2WvaTY2MdI2o",
        "outputId": "b7bcf577-7c5d-479c-b4fb-516f86c7166d"
      },
      "execution_count": 2,
      "outputs": [
        {
          "output_type": "stream",
          "name": "stdout",
          "text": [
            "5 < 10: True\n",
            "5 <= 10: True\n",
            "5 == 10: False\n",
            "5 != 10: True\n",
            "5 > 10: False\n",
            "5 >= 10: False\n"
          ]
        }
      ]
    },
    {
      "cell_type": "markdown",
      "source": [
        "# print the smaller and larger number"
      ],
      "metadata": {
        "id": "_Pzq-Qh_K5Em"
      }
    },
    {
      "cell_type": "code",
      "source": [
        "def find_smaller_larger(a, b):\n",
        "    if a < b:\n",
        "        print(f\"The smaller number is: {a}\")\n",
        "        print(f\"The larger number is: {b}\")\n",
        "    elif a > b:\n",
        "        print(f\"The smaller number is: {b}\")\n",
        "        print(f\"The larger number is: {a}\")\n",
        "    else:\n",
        "        print(\"Both numbers are equal.\")\n",
        "\n",
        "# Example\n",
        "num1 = 25\n",
        "num2 = 20\n",
        "find_smaller_larger(num1, num2)\n"
      ],
      "metadata": {
        "colab": {
          "base_uri": "https://localhost:8080/"
        },
        "id": "UX_8yLf0LIPA",
        "outputId": "98a98dd6-e9f9-4822-9383-3857ae7f3462"
      },
      "execution_count": 5,
      "outputs": [
        {
          "output_type": "stream",
          "name": "stdout",
          "text": [
            "The smaller number is: 20\n",
            "The larger number is: 25\n"
          ]
        }
      ]
    },
    {
      "cell_type": "markdown",
      "source": [],
      "metadata": {
        "id": "Ky7_IkV4dIMB"
      }
    }
  ]
}