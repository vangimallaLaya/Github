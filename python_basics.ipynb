{
  "nbformat": 4,
  "nbformat_minor": 0,
  "metadata": {
    "colab": {
      "provenance": [],
      "authorship_tag": "ABX9TyPc8j5/J8gBYLKGGc0NxpIb",
      "include_colab_link": true
    },
    "kernelspec": {
      "name": "python3",
      "display_name": "Python 3"
    },
    "language_info": {
      "name": "python"
    }
  },
  "cells": [
    {
      "cell_type": "markdown",
      "metadata": {
        "id": "view-in-github",
        "colab_type": "text"
      },
      "source": [
        "<a href=\"https://colab.research.google.com/github/vangimallaLaya/Github/blob/main/python_basics.ipynb\" target=\"_parent\"><img src=\"https://colab.research.google.com/assets/colab-badge.svg\" alt=\"Open In Colab\"/></a>"
      ]
    },
    {
      "cell_type": "markdown",
      "source": [
        "print your name"
      ],
      "metadata": {
        "id": "kwunzXM-Qt8R"
      }
    },
    {
      "cell_type": "code",
      "execution_count": 2,
      "metadata": {
        "colab": {
          "base_uri": "https://localhost:8080/"
        },
        "id": "-P15IZmXQDsV",
        "outputId": "dac56116-59cb-4b9a-f93e-50847f9feb2a"
      },
      "outputs": [
        {
          "output_type": "stream",
          "name": "stdout",
          "text": [
            "Vangimalla Laya\n"
          ]
        }
      ],
      "source": [
        "print(\"Vangimalla Laya\")"
      ]
    },
    {
      "cell_type": "code",
      "source": [],
      "metadata": {
        "id": "alv7lNgsQoh_"
      },
      "execution_count": null,
      "outputs": []
    },
    {
      "cell_type": "markdown",
      "source": [
        "Single line comment and multiline comment."
      ],
      "metadata": {
        "id": "efhovyVcQ0oD"
      }
    },
    {
      "cell_type": "code",
      "source": [
        "name = \"laya\"\n",
        "print(name)\n",
        "print(\"hello,welcome to python programming!\")"
      ],
      "metadata": {
        "colab": {
          "base_uri": "https://localhost:8080/"
        },
        "id": "VCL7h_JBQ-Zk",
        "outputId": "2332d593-6127-402a-9f3e-0244c1830b01"
      },
      "execution_count": 5,
      "outputs": [
        {
          "output_type": "stream",
          "name": "stdout",
          "text": [
            "laya\n",
            "hello,welcome to python programming!\n"
          ]
        }
      ]
    },
    {
      "cell_type": "markdown",
      "source": [
        "variables for different data types .\n"
      ],
      "metadata": {
        "id": "Uf71LIY4WFn-"
      }
    },
    {
      "cell_type": "code",
      "source": [
        "#int\n",
        "a = 56\n",
        "print(type(a))"
      ],
      "metadata": {
        "colab": {
          "base_uri": "https://localhost:8080/"
        },
        "id": "oUln7z1FWt3R",
        "outputId": "7c213245-a28a-4d4f-9427-bb9506fe1c61"
      },
      "execution_count": 10,
      "outputs": [
        {
          "output_type": "stream",
          "name": "stdout",
          "text": [
            "<class 'int'>\n"
          ]
        }
      ]
    },
    {
      "cell_type": "code",
      "source": [
        "#boolean\n",
        "a = True\n",
        "print(type(a))"
      ],
      "metadata": {
        "colab": {
          "base_uri": "https://localhost:8080/"
        },
        "id": "_gg1Vj6CXeoj",
        "outputId": "0e16fce6-bf4a-4bca-c097-1de3c2cc56af"
      },
      "execution_count": 11,
      "outputs": [
        {
          "output_type": "stream",
          "name": "stdout",
          "text": [
            "<class 'bool'>\n"
          ]
        }
      ]
    },
    {
      "cell_type": "code",
      "source": [
        "#char\n",
        "a = \"hello world\"\n",
        "print(type(a))"
      ],
      "metadata": {
        "colab": {
          "base_uri": "https://localhost:8080/"
        },
        "id": "uKBLsNoIYUKj",
        "outputId": "e70aca7c-92e9-48c5-9fb5-df89cd2df481"
      },
      "execution_count": 15,
      "outputs": [
        {
          "output_type": "stream",
          "name": "stdout",
          "text": [
            "<class 'str'>\n"
          ]
        }
      ]
    },
    {
      "cell_type": "code",
      "source": [
        "#float\n",
        "a = 56.7\n",
        "print(type(a))"
      ],
      "metadata": {
        "colab": {
          "base_uri": "https://localhost:8080/"
        },
        "id": "EmeB1xwaZkIn",
        "outputId": "58236702-1c86-4e94-a561-3f5802d4193c"
      },
      "execution_count": 16,
      "outputs": [
        {
          "output_type": "stream",
          "name": "stdout",
          "text": [
            "<class 'float'>\n"
          ]
        }
      ]
    },
    {
      "cell_type": "code",
      "source": [
        "# In Python, there isn't a specific data type called \"double\" as in some other programming languages like C or Java."
      ],
      "metadata": {
        "id": "l91nGOa3OfYW"
      },
      "execution_count": null,
      "outputs": []
    },
    {
      "cell_type": "markdown",
      "source": [
        "local and global varaiables."
      ],
      "metadata": {
        "id": "fsUl-wg2OiV_"
      }
    },
    {
      "cell_type": "code",
      "source": [
        "# Global variable\n",
        "laya = \"I am global\"\n",
        "\n",
        "def my_function():\n",
        "    # Local variable\n",
        "    laya = \"I am local\"\n",
        "    print(\"Inside the function:\", laya)  # Accessing the local variable\n",
        "\n",
        "# Accessing the global variable outside the function\n",
        "print(\"Outside the function before calling:\", laya)\n",
        "\n",
        "# Call the function\n",
        "my_function()\n",
        "\n",
        "# Accessing the global variable after calling the function\n",
        "print(\"Outside the function after calling:\", laya)\n"
      ],
      "metadata": {
        "colab": {
          "base_uri": "https://localhost:8080/"
        },
        "id": "AhepPuPiRNpy",
        "outputId": "d45ac0b9-f525-4242-e60c-71b493e5dc37"
      },
      "execution_count": 1,
      "outputs": [
        {
          "output_type": "stream",
          "name": "stdout",
          "text": [
            "Outside the function before calling: I am global\n",
            "Inside the function: I am local\n",
            "Outside the function after calling: I am global\n"
          ]
        }
      ]
    }
  ]
}