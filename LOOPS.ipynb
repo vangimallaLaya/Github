{
  "nbformat": 4,
  "nbformat_minor": 0,
  "metadata": {
    "colab": {
      "provenance": [],
      "authorship_tag": "ABX9TyPyBhmgCLeMedpZqihtnrEU",
      "include_colab_link": true
    },
    "kernelspec": {
      "name": "python3",
      "display_name": "Python 3"
    },
    "language_info": {
      "name": "python"
    }
  },
  "cells": [
    {
      "cell_type": "markdown",
      "metadata": {
        "id": "view-in-github",
        "colab_type": "text"
      },
      "source": [
        "<a href=\"https://colab.research.google.com/github/vangimallaLaya/Github/blob/main/LOOPS.ipynb\" target=\"_parent\"><img src=\"https://colab.research.google.com/assets/colab-badge.svg\" alt=\"Open In Colab\"/></a>"
      ]
    },
    {
      "cell_type": "markdown",
      "source": [
        "### LOOPS"
      ],
      "metadata": {
        "id": "-x8cFW0rNdaN"
      }
    },
    {
      "cell_type": "markdown",
      "source": [
        "# write a program to print \"Bright IT Career\" ten times using for loop"
      ],
      "metadata": {
        "id": "Xp5d5PivNu7a"
      }
    },
    {
      "cell_type": "code",
      "source": [
        "for i in range(10):\n",
        "    print(\"Bright IT Career\")\n",
        "\n"
      ],
      "metadata": {
        "colab": {
          "base_uri": "https://localhost:8080/"
        },
        "id": "0ojS2RAIOJ0v",
        "outputId": "becb59d6-e4c2-4791-fc23-2f0963793f6a"
      },
      "execution_count": 1,
      "outputs": [
        {
          "output_type": "stream",
          "name": "stdout",
          "text": [
            "Bright IT Career\n",
            "Bright IT Career\n",
            "Bright IT Career\n",
            "Bright IT Career\n",
            "Bright IT Career\n",
            "Bright IT Career\n",
            "Bright IT Career\n",
            "Bright IT Career\n",
            "Bright IT Career\n",
            "Bright IT Career\n"
          ]
        }
      ]
    },
    {
      "cell_type": "markdown",
      "source": [
        "# write a program to print 1 to 20 numbers using while loop"
      ],
      "metadata": {
        "id": "wXZq8vjEOjQs"
      }
    },
    {
      "cell_type": "code",
      "source": [
        "number = 1\n",
        "while number <= 20:\n",
        "    print(number)\n",
        "    number += 1\n"
      ],
      "metadata": {
        "colab": {
          "base_uri": "https://localhost:8080/"
        },
        "id": "Q1vCAx1HO-MZ",
        "outputId": "35ea4feb-cd50-461d-e38d-5b836981fddf"
      },
      "execution_count": 2,
      "outputs": [
        {
          "output_type": "stream",
          "name": "stdout",
          "text": [
            "1\n",
            "2\n",
            "3\n",
            "4\n",
            "5\n",
            "6\n",
            "7\n",
            "8\n",
            "9\n",
            "10\n",
            "11\n",
            "12\n",
            "13\n",
            "14\n",
            "15\n",
            "16\n",
            "17\n",
            "18\n",
            "19\n",
            "20\n"
          ]
        }
      ]
    },
    {
      "cell_type": "markdown",
      "source": [
        "# program to equal operator and not equal operators."
      ],
      "metadata": {
        "id": "ZwQp_fViQgBD"
      }
    },
    {
      "cell_type": "code",
      "source": [
        "# Program to demonstrate equal and not equal operators\n",
        "\n",
        "# Input two numbers\n",
        "num1 = int(input(\"Enter the first number: \"))\n",
        "num2 = int(input(\"Enter the second number: \"))\n",
        "\n",
        "# Equal operator (==)\n",
        "if num1 == num2:\n",
        "    print(\"The numbers are equal.\")\n",
        "else:\n",
        "    print(\"The numbers are not equal.\")\n",
        "\n",
        "# Not equal operator (!=)\n",
        "if num1 != num2:\n",
        "    print(\"The numbers are not the same.\")\n",
        "else:\n",
        "    print(\"The numbers are same.\")\n"
      ],
      "metadata": {
        "colab": {
          "base_uri": "https://localhost:8080/"
        },
        "id": "tFEfWGHeQ43N",
        "outputId": "f44b8999-c40c-4525-cea3-e739e1cf83bd"
      },
      "execution_count": 5,
      "outputs": [
        {
          "output_type": "stream",
          "name": "stdout",
          "text": [
            "Enter the first number: 20\n",
            "Enter the second number: 30\n",
            "The numbers are not equal.\n",
            "The numbers are not the same.\n"
          ]
        }
      ]
    },
    {
      "cell_type": "markdown",
      "source": [
        "# write a program to print the odd and even numbers"
      ],
      "metadata": {
        "id": "EVAumoAvTRGv"
      }
    },
    {
      "cell_type": "code",
      "source": [
        "number = int(input(\"Enter a number: \"))\n",
        "\n",
        "if number % 2 == 0:\n",
        "    print(f\"{number} is an even number.\")\n",
        "else:\n",
        "    print(f\"{number} is an odd number.\")"
      ],
      "metadata": {
        "colab": {
          "base_uri": "https://localhost:8080/"
        },
        "id": "OdZz5k5OXW59",
        "outputId": "5070a6d2-cb12-4cca-8c9c-c8c22dca6e85"
      },
      "execution_count": 8,
      "outputs": [
        {
          "output_type": "stream",
          "name": "stdout",
          "text": [
            "Enter a number: 40\n",
            "40 is an even number.\n"
          ]
        }
      ]
    },
    {
      "cell_type": "markdown",
      "source": [
        "# write a program to print largest number among three numbers"
      ],
      "metadata": {
        "id": "TTasDE-fX8ox"
      }
    },
    {
      "cell_type": "code",
      "source": [
        "# Input three numbers\n",
        "num1 = int(input(\"Enter the first number: \"))\n",
        "num2 = int(input(\"Enter the second number: \"))\n",
        "num3 = int(input(\"Enter the third number: \"))\n",
        "\n",
        "# Compare the three numbers\n",
        "if (num1 >= num2) and (num1 >= num3):\n",
        "    print(f\"The largest number is: {num1}\")\n",
        "elif (num2 >= num1) and (num2 >= num3):\n",
        "    print(f\"The largest number is: {num2}\")\n",
        "else:\n",
        "    print(f\"The largest number is: {num3}\")\n"
      ],
      "metadata": {
        "colab": {
          "base_uri": "https://localhost:8080/"
        },
        "id": "5iPtApYMZSpt",
        "outputId": "16c4bd49-ec28-426f-827a-414ae5b53fb2"
      },
      "execution_count": 10,
      "outputs": [
        {
          "output_type": "stream",
          "name": "stdout",
          "text": [
            "Enter the first number: 30\n",
            "Enter the second number: 40\n",
            "Enter the third number: 50\n",
            "The largest number is: 50\n"
          ]
        }
      ]
    },
    {
      "cell_type": "markdown",
      "source": [
        "# write a program to print even number between 10 and 20 using while loop statement."
      ],
      "metadata": {
        "id": "CEDkRUZDaKhF"
      }
    },
    {
      "cell_type": "code",
      "source": [
        "num = 10\n",
        "while num <= 20:\n",
        "    print(num, end=\" \")\n",
        "    num += 2\n"
      ],
      "metadata": {
        "colab": {
          "base_uri": "https://localhost:8080/"
        },
        "id": "Kz9V-H1tcJN2",
        "outputId": "2906ec93-6f27-4c85-e326-a1310416d368"
      },
      "execution_count": 11,
      "outputs": [
        {
          "output_type": "stream",
          "name": "stdout",
          "text": [
            "10 12 14 16 18 20 "
          ]
        }
      ]
    },
    {
      "cell_type": "markdown",
      "source": [
        "# write a program to print 1 to 10 using the do-while loop statement.\n"
      ],
      "metadata": {
        "id": "OOjftxCHcvXs"
      }
    },
    {
      "cell_type": "code",
      "source": [
        "#Python does not have a native do-while loop, but we can mimic its behavior using a while loop.\n",
        "num = 1\n",
        "\n",
        "while True:  # Mimic the behavior of a do-while loop\n",
        "    print(num, end=\" \")\n",
        "    num += 1\n",
        "    if num > 10:  # Break the loop if the condition is met\n",
        "        break"
      ],
      "metadata": {
        "colab": {
          "base_uri": "https://localhost:8080/"
        },
        "id": "NurTzFWrdKUn",
        "outputId": "dd0acbe0-f11e-4be0-fa56-755ee07fa7a1"
      },
      "execution_count": 12,
      "outputs": [
        {
          "output_type": "stream",
          "name": "stdout",
          "text": [
            "1 2 3 4 5 6 7 8 9 10 "
          ]
        }
      ]
    },
    {
      "cell_type": "markdown",
      "source": [
        "# write a program to find armstrong number or not."
      ],
      "metadata": {
        "id": "PMNC1_Wgeq2H"
      }
    },
    {
      "cell_type": "code",
      "source": [
        "num = int(input(\"enter a value:\"))\n",
        "s = num\n",
        "sum = 0\n",
        "b = len(str(num))\n",
        "while num!=0:\n",
        "  x=num%10\n",
        "  sum=sum+x**b\n",
        "  num=num//10\n",
        "if s==sum:\n",
        "  print(\"Armstrong number\")\n",
        "else:\n",
        "  print(\"Not Armstrong number\")"
      ],
      "metadata": {
        "colab": {
          "base_uri": "https://localhost:8080/"
        },
        "id": "WGvPOO0-e77Y",
        "outputId": "f989a358-fe39-46d4-aaac-735f6c0e96f3"
      },
      "execution_count": 3,
      "outputs": [
        {
          "output_type": "stream",
          "name": "stdout",
          "text": [
            "enter a value:153\n",
            "Armstrong number\n"
          ]
        }
      ]
    },
    {
      "cell_type": "markdown",
      "source": [
        "# write a program to find prime or not."
      ],
      "metadata": {
        "id": "ECLp6AtQqr7i"
      }
    },
    {
      "cell_type": "code",
      "source": [
        "num = int(input(\"Enter a number: \"))\n",
        "for i in range(2, num):\n",
        "    if num % i == 0:\n",
        "        print( \"not a prime number\")\n",
        "        break\n",
        "else:\n",
        "    print(\"prime number\")"
      ],
      "metadata": {
        "colab": {
          "base_uri": "https://localhost:8080/"
        },
        "id": "m2rOWfWWq8kY",
        "outputId": "d18cc9d0-a9f7-45c3-e412-a6e06d4c79d7"
      },
      "execution_count": 4,
      "outputs": [
        {
          "output_type": "stream",
          "name": "stdout",
          "text": [
            "Enter a number: 13\n",
            "prime number\n"
          ]
        }
      ]
    },
    {
      "cell_type": "markdown",
      "source": [
        "# write a program to palindrome or not."
      ],
      "metadata": {
        "id": "tsnXCn6WzCGC"
      }
    },
    {
      "cell_type": "markdown",
      "source": [],
      "metadata": {
        "id": "6dNqKzujq6d5"
      }
    },
    {
      "cell_type": "code",
      "source": [
        "num1 = int(input(\"Enter first number: \"))\n",
        "num = num1\n",
        "rev = 0\n",
        "while num > 0:\n",
        "    x = num % 10\n",
        "    rev = rev * 10 + x\n",
        "    num = num // 10\n",
        "if num1 == rev:\n",
        "    print(\"Palindrome\")\n",
        "else:\n",
        "    print(\"Not Palindrome\")"
      ],
      "metadata": {
        "colab": {
          "base_uri": "https://localhost:8080/"
        },
        "id": "2K1UMiidzMUM",
        "outputId": "3fc954f2-e63b-4094-fb74-36f98b547522"
      },
      "execution_count": 1,
      "outputs": [
        {
          "output_type": "stream",
          "name": "stdout",
          "text": [
            "Enter first number: 121\n",
            "Palindrome\n"
          ]
        }
      ]
    },
    {
      "cell_type": "markdown",
      "source": [
        "# program to check whether a number is EVEN or ODD using switch."
      ],
      "metadata": {
        "id": "jVIm_0bD1GUI"
      }
    },
    {
      "cell_type": "code",
      "source": [
        "def check_even_odd(num):\n",
        "    switch = {\n",
        "        0: f\"{num} is Even\",\n",
        "        1: f\"{num} is Odd\"\n",
        "    }\n",
        "    # Use modulo to determine the case\n",
        "    return switch[num % 2]\n",
        "num = int(input(\"Enter a number: \"))\n",
        "print(check_even_odd(num))\n"
      ],
      "metadata": {
        "colab": {
          "base_uri": "https://localhost:8080/"
        },
        "id": "BCvn3jNO2apU",
        "outputId": "44a11a40-1342-4fa9-a154-6e9200ecd6bd"
      },
      "execution_count": 3,
      "outputs": [
        {
          "output_type": "stream",
          "name": "stdout",
          "text": [
            "Enter a number: 35\n",
            "35 is Odd\n"
          ]
        }
      ]
    },
    {
      "cell_type": "markdown",
      "source": [
        "# print gender (Male/Female) program according to given M/F using switch."
      ],
      "metadata": {
        "id": "djmndXdD3S-Q"
      }
    },
    {
      "cell_type": "code",
      "source": [
        "def determine_gender(choice):\n",
        "    switch = {\n",
        "        'M': \"Gender: Male\",\n",
        "        'F': \"Gender: Female\"\n",
        "    }\n",
        "    # Get the corresponding value or a default message\n",
        "    return switch.get(choice.upper(), \"Invalid input! Please enter M or F.\")\n",
        "\n",
        "# Input gender\n",
        "choice = input(\"Enter your gender (M/F): \")\n",
        "\n",
        "# Output the result\n",
        "print(determine_gender(choice))\n"
      ],
      "metadata": {
        "colab": {
          "base_uri": "https://localhost:8080/"
        },
        "id": "dNx0mYiZ3rqn",
        "outputId": "a8a07da2-4789-433d-f757-127dda5259e4"
      },
      "execution_count": 7,
      "outputs": [
        {
          "output_type": "stream",
          "name": "stdout",
          "text": [
            "Enter your gender (M/F): f\n",
            "Gender: Female\n"
          ]
        }
      ]
    }
  ]
}